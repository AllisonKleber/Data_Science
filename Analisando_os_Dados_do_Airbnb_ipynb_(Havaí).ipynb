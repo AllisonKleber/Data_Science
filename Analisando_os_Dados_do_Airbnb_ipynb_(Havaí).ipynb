{
  "nbformat": 4,
  "nbformat_minor": 0,
  "metadata": {
    "colab": {
      "provenance": [],
      "include_colab_link": true
    },
    "kernelspec": {
      "name": "python3",
      "display_name": "Python 3"
    }
  },
  "cells": [
    {
      "cell_type": "markdown",
      "metadata": {
        "id": "view-in-github",
        "colab_type": "text"
      },
      "source": [
        "<a href=\"https://colab.research.google.com/github/AllisonKleber/Data_Science/blob/main/Analisando_os_Dados_do_Airbnb_ipynb_(Hava%C3%AD).ipynb\" target=\"_parent\"><img src=\"https://colab.research.google.com/assets/colab-badge.svg\" alt=\"Open In Colab\"/></a>"
      ]
    },
    {
      "cell_type": "markdown",
      "metadata": {
        "id": "kLI0gJtzDGuQ"
      },
      "source": [
        "<img alt=\"Colaboratory logo\" width=\"15%\" src=\"https://raw.githubusercontent.com/carlosfab/escola-data-science/master/img/novo_logo_bg_claro.png\">\n",
        "\n",
        "#### **Data Science na Prática 3.0**\n",
        "*by [sigmoidal.ai](https://sigmoidal.ai)*\n",
        "\n",
        "---\n",
        "\n",
        "# Análise dos Dados do Airbnb - *Havaí*\n",
        "\n",
        "<center><img alt=\"Havai\" width=\"70%\" src=\"https://www.remessaonline.com.br/blog/wp-content/uploads/2022/06/havai-1024x683.jpg.optimal.jpg\"></center>\n",
        "\n",
        "O [Airbnb](https://www.airbnb.com.br/) já é considerado como sendo a **maior empresa hoteleira da atualidade**. Ah, o detalhe é que ele **não possui nenhum hotel**!\n",
        "\n",
        "Conectando pessoas que querem viajar (e se hospedar) com anfitriões que querem alugar seus imóveis de maneira prática, o Airbnb fornece uma plataforma inovadora para tornar essa hospedagem alternativa.\n",
        "\n",
        "No final de 2018, a Startup fundada 10 anos atrás, já havia **hospedado mais de 300 milhões** de pessoas ao redor de todo o mundo, desafiando as redes hoteleiras tradicionais.\n",
        "\n",
        "Uma das iniciativas do Airbnb é disponibilizar dados do site, para algumas das principais cidades do mundo. Por meio do portal [Inside Airbnb](http://insideairbnb.com/get-the-data.html), é possível baixar uma grande quantidade de dados para desenvolver projetos e soluções de *Data Science*.\n",
        "\n",
        "<center><img alt=\"Analisando Airbnb\" width=\"10%\" src=\"https://www.area360.com.au/wp-content/uploads/2017/09/airbnb-logo.jpg\"></center>\n",
        "\n",
        "**Neste *notebook*, iremos analisar os dados referentes o estado do Havaí, e ver quais insights podem ser extraídos a partir de dados brutos.**"
      ]
    },
    {
      "cell_type": "markdown",
      "metadata": {
        "id": "0zxQHhIUDF_2"
      },
      "source": [
        "## Obtenção dos Dados\n",
        "\n",
        "Todos os dados usados aqui foram obtidos a partir do site [Inside Airbnb](http://insideairbnb.com/get-the-data.html).\n",
        "\n",
        "Para facilitar nossa análise foram extraidos dados resumidos (Summary information and metrics for listings in Hawaii (good for visualisations)\n"
      ]
    },
    {
      "cell_type": "code",
      "metadata": {
        "id": "Vhp2wMPgJ6zX"
      },
      "source": [
        "# importar os pacotes necessarios\n",
        "import pandas as pd\n",
        "import matplotlib.pyplot as plt\n",
        "import seaborn as sns\n",
        "%matplotlib inline"
      ],
      "execution_count": 35,
      "outputs": []
    },
    {
      "cell_type": "code",
      "metadata": {
        "id": "tUmoAT8DLQ5T"
      },
      "source": [
        "# importar o arquivo listings.csv para um DataFrame\n",
        "df_Havai = pd.read_csv('http://data.insideairbnb.com/united-states/hi/hawaii/2022-09-12/visualisations/listings.csv')"
      ],
      "execution_count": 36,
      "outputs": []
    },
    {
      "cell_type": "markdown",
      "metadata": {
        "id": "qb5By2nIMS6m"
      },
      "source": [
        "## Análise dos Dados\n",
        "\n",
        "Segue abaixo a estrutura dos dados (DataFrame), assim podemos facilitar a nossa compressão e análise. \n"
      ]
    },
    {
      "cell_type": "markdown",
      "metadata": {
        "id": "RYgvuebKNg8-"
      },
      "source": [
        "**Dicionário das variáveis**\n",
        "\n",
        "* `id` - número de id gerado para identificar o imóvel\n",
        "* `name` - nome da propriedade anunciada\n",
        "* `host_id` - número de id do proprietário (anfitrião) da propriedade\n",
        "* `host_name` - Nome do anfitrião\n",
        "* `neighbourhood_group` - Ilhas do Havaí\n",
        "* `neighbourhood` - nome do bairro\n",
        "* `latitude` - coordenada da latitude da propriedade\n",
        "* `longitude` - coordenada da longitude da propriedade\n",
        "* `room_type` - informa o tipo de quarto que é oferecido\n",
        "* `price` - preço para alugar o imóvel\n",
        "* `minimum_nights` - quantidade mínima de noites para reservar\n",
        "* `number_of_reviews` - número de reviews que a propriedade possui\n",
        "* `last_review` - data do último review\n",
        "* `reviews_per_month` - quantidade de reviews por mês\n",
        "* `calculated_host_listings_count` - quantidade de imóveis do mesmo anfitrião\n",
        "* `availability_365` - número de dias de disponibilidade dentro de 365 dias\n",
        "\n",
        "Antes de iniciar qualquer análise, vamos verificar a cara do nosso *dataset*, analisando as 5 primeiras entradas."
      ]
    },
    {
      "cell_type": "code",
      "metadata": {
        "id": "2iS_dae7YQtO",
        "outputId": "c14009db-3996-4eaa-ea2f-b02875e49625",
        "colab": {
          "base_uri": "https://localhost:8080/",
          "height": 617
        }
      },
      "source": [
        "# mostrar as 5 primeiras entradas\n",
        "df_Havai.head()"
      ],
      "execution_count": 37,
      "outputs": [
        {
          "output_type": "execute_result",
          "data": {
            "text/plain": [
              "         id                                              name    host_id  \\\n",
              "0      5269         Upcountry Hospitality in the 'Auwai Suite       7620   \n",
              "1  34843927                          Simply Paradise Glamping  262664392   \n",
              "2  35066424     Spacious 3 Bedroom 3 Bath + Loft at Alii Cove  264152810   \n",
              "3  35067513  Noah’s Hideaway Maui, Luxury B&B, Walk to Beach!  264162605   \n",
              "4      5387               Hale Koa Studio & 1 Bedroom Units!!       7878   \n",
              "\n",
              "           host_name neighbourhood_group neighbourhood  latitude  longitude  \\\n",
              "0          Lea & Pat              Hawaii  South Kohala  20.02740 -155.70200   \n",
              "1  Adriano And Julia              Hawaii    North Kona  19.66220 -155.95681   \n",
              "2              Robyn              Hawaii    North Kona  19.62768 -155.98543   \n",
              "3               Fadi                Maui       Lahaina  20.91764 -156.68840   \n",
              "4             Edward              Hawaii    South Kona  19.43081 -155.88069   \n",
              "\n",
              "         room_type  price  minimum_nights  number_of_reviews last_review  \\\n",
              "0  Entire home/apt    149               5                 24  2022-07-13   \n",
              "1     Private room     83               1                194  2022-08-25   \n",
              "2  Entire home/apt    175              30                  2  2022-02-19   \n",
              "3  Entire home/apt    622               1                 70  2022-06-24   \n",
              "4  Entire home/apt     91               5                201  2022-09-03   \n",
              "\n",
              "   reviews_per_month  calculated_host_listings_count  availability_365  \\\n",
              "0               0.17                               3               212   \n",
              "1               5.90                               3               334   \n",
              "2               0.25                               1               197   \n",
              "3               1.80                               2               191   \n",
              "4               1.31                               3               166   \n",
              "\n",
              "   number_of_reviews_ltm                           license  \n",
              "0                     10                  119-269-5808-01R  \n",
              "1                     96                               NaN  \n",
              "2                      2                               NaN  \n",
              "3                      5  440090330000, TA-197-216-9216-01  \n",
              "4                     19                               NaN  "
            ],
            "text/html": [
              "\n",
              "  <div id=\"df-01fa5ad5-f55e-4efb-8594-c1c40fd081c9\">\n",
              "    <div class=\"colab-df-container\">\n",
              "      <div>\n",
              "<style scoped>\n",
              "    .dataframe tbody tr th:only-of-type {\n",
              "        vertical-align: middle;\n",
              "    }\n",
              "\n",
              "    .dataframe tbody tr th {\n",
              "        vertical-align: top;\n",
              "    }\n",
              "\n",
              "    .dataframe thead th {\n",
              "        text-align: right;\n",
              "    }\n",
              "</style>\n",
              "<table border=\"1\" class=\"dataframe\">\n",
              "  <thead>\n",
              "    <tr style=\"text-align: right;\">\n",
              "      <th></th>\n",
              "      <th>id</th>\n",
              "      <th>name</th>\n",
              "      <th>host_id</th>\n",
              "      <th>host_name</th>\n",
              "      <th>neighbourhood_group</th>\n",
              "      <th>neighbourhood</th>\n",
              "      <th>latitude</th>\n",
              "      <th>longitude</th>\n",
              "      <th>room_type</th>\n",
              "      <th>price</th>\n",
              "      <th>minimum_nights</th>\n",
              "      <th>number_of_reviews</th>\n",
              "      <th>last_review</th>\n",
              "      <th>reviews_per_month</th>\n",
              "      <th>calculated_host_listings_count</th>\n",
              "      <th>availability_365</th>\n",
              "      <th>number_of_reviews_ltm</th>\n",
              "      <th>license</th>\n",
              "    </tr>\n",
              "  </thead>\n",
              "  <tbody>\n",
              "    <tr>\n",
              "      <th>0</th>\n",
              "      <td>5269</td>\n",
              "      <td>Upcountry Hospitality in the 'Auwai Suite</td>\n",
              "      <td>7620</td>\n",
              "      <td>Lea &amp; Pat</td>\n",
              "      <td>Hawaii</td>\n",
              "      <td>South Kohala</td>\n",
              "      <td>20.02740</td>\n",
              "      <td>-155.70200</td>\n",
              "      <td>Entire home/apt</td>\n",
              "      <td>149</td>\n",
              "      <td>5</td>\n",
              "      <td>24</td>\n",
              "      <td>2022-07-13</td>\n",
              "      <td>0.17</td>\n",
              "      <td>3</td>\n",
              "      <td>212</td>\n",
              "      <td>10</td>\n",
              "      <td>119-269-5808-01R</td>\n",
              "    </tr>\n",
              "    <tr>\n",
              "      <th>1</th>\n",
              "      <td>34843927</td>\n",
              "      <td>Simply Paradise Glamping</td>\n",
              "      <td>262664392</td>\n",
              "      <td>Adriano And Julia</td>\n",
              "      <td>Hawaii</td>\n",
              "      <td>North Kona</td>\n",
              "      <td>19.66220</td>\n",
              "      <td>-155.95681</td>\n",
              "      <td>Private room</td>\n",
              "      <td>83</td>\n",
              "      <td>1</td>\n",
              "      <td>194</td>\n",
              "      <td>2022-08-25</td>\n",
              "      <td>5.90</td>\n",
              "      <td>3</td>\n",
              "      <td>334</td>\n",
              "      <td>96</td>\n",
              "      <td>NaN</td>\n",
              "    </tr>\n",
              "    <tr>\n",
              "      <th>2</th>\n",
              "      <td>35066424</td>\n",
              "      <td>Spacious 3 Bedroom 3 Bath + Loft at Alii Cove</td>\n",
              "      <td>264152810</td>\n",
              "      <td>Robyn</td>\n",
              "      <td>Hawaii</td>\n",
              "      <td>North Kona</td>\n",
              "      <td>19.62768</td>\n",
              "      <td>-155.98543</td>\n",
              "      <td>Entire home/apt</td>\n",
              "      <td>175</td>\n",
              "      <td>30</td>\n",
              "      <td>2</td>\n",
              "      <td>2022-02-19</td>\n",
              "      <td>0.25</td>\n",
              "      <td>1</td>\n",
              "      <td>197</td>\n",
              "      <td>2</td>\n",
              "      <td>NaN</td>\n",
              "    </tr>\n",
              "    <tr>\n",
              "      <th>3</th>\n",
              "      <td>35067513</td>\n",
              "      <td>Noah’s Hideaway Maui, Luxury B&amp;B, Walk to Beach!</td>\n",
              "      <td>264162605</td>\n",
              "      <td>Fadi</td>\n",
              "      <td>Maui</td>\n",
              "      <td>Lahaina</td>\n",
              "      <td>20.91764</td>\n",
              "      <td>-156.68840</td>\n",
              "      <td>Entire home/apt</td>\n",
              "      <td>622</td>\n",
              "      <td>1</td>\n",
              "      <td>70</td>\n",
              "      <td>2022-06-24</td>\n",
              "      <td>1.80</td>\n",
              "      <td>2</td>\n",
              "      <td>191</td>\n",
              "      <td>5</td>\n",
              "      <td>440090330000, TA-197-216-9216-01</td>\n",
              "    </tr>\n",
              "    <tr>\n",
              "      <th>4</th>\n",
              "      <td>5387</td>\n",
              "      <td>Hale Koa Studio &amp; 1 Bedroom Units!!</td>\n",
              "      <td>7878</td>\n",
              "      <td>Edward</td>\n",
              "      <td>Hawaii</td>\n",
              "      <td>South Kona</td>\n",
              "      <td>19.43081</td>\n",
              "      <td>-155.88069</td>\n",
              "      <td>Entire home/apt</td>\n",
              "      <td>91</td>\n",
              "      <td>5</td>\n",
              "      <td>201</td>\n",
              "      <td>2022-09-03</td>\n",
              "      <td>1.31</td>\n",
              "      <td>3</td>\n",
              "      <td>166</td>\n",
              "      <td>19</td>\n",
              "      <td>NaN</td>\n",
              "    </tr>\n",
              "  </tbody>\n",
              "</table>\n",
              "</div>\n",
              "      <button class=\"colab-df-convert\" onclick=\"convertToInteractive('df-01fa5ad5-f55e-4efb-8594-c1c40fd081c9')\"\n",
              "              title=\"Convert this dataframe to an interactive table.\"\n",
              "              style=\"display:none;\">\n",
              "        \n",
              "  <svg xmlns=\"http://www.w3.org/2000/svg\" height=\"24px\"viewBox=\"0 0 24 24\"\n",
              "       width=\"24px\">\n",
              "    <path d=\"M0 0h24v24H0V0z\" fill=\"none\"/>\n",
              "    <path d=\"M18.56 5.44l.94 2.06.94-2.06 2.06-.94-2.06-.94-.94-2.06-.94 2.06-2.06.94zm-11 1L8.5 8.5l.94-2.06 2.06-.94-2.06-.94L8.5 2.5l-.94 2.06-2.06.94zm10 10l.94 2.06.94-2.06 2.06-.94-2.06-.94-.94-2.06-.94 2.06-2.06.94z\"/><path d=\"M17.41 7.96l-1.37-1.37c-.4-.4-.92-.59-1.43-.59-.52 0-1.04.2-1.43.59L10.3 9.45l-7.72 7.72c-.78.78-.78 2.05 0 2.83L4 21.41c.39.39.9.59 1.41.59.51 0 1.02-.2 1.41-.59l7.78-7.78 2.81-2.81c.8-.78.8-2.07 0-2.86zM5.41 20L4 18.59l7.72-7.72 1.47 1.35L5.41 20z\"/>\n",
              "  </svg>\n",
              "      </button>\n",
              "      \n",
              "  <style>\n",
              "    .colab-df-container {\n",
              "      display:flex;\n",
              "      flex-wrap:wrap;\n",
              "      gap: 12px;\n",
              "    }\n",
              "\n",
              "    .colab-df-convert {\n",
              "      background-color: #E8F0FE;\n",
              "      border: none;\n",
              "      border-radius: 50%;\n",
              "      cursor: pointer;\n",
              "      display: none;\n",
              "      fill: #1967D2;\n",
              "      height: 32px;\n",
              "      padding: 0 0 0 0;\n",
              "      width: 32px;\n",
              "    }\n",
              "\n",
              "    .colab-df-convert:hover {\n",
              "      background-color: #E2EBFA;\n",
              "      box-shadow: 0px 1px 2px rgba(60, 64, 67, 0.3), 0px 1px 3px 1px rgba(60, 64, 67, 0.15);\n",
              "      fill: #174EA6;\n",
              "    }\n",
              "\n",
              "    [theme=dark] .colab-df-convert {\n",
              "      background-color: #3B4455;\n",
              "      fill: #D2E3FC;\n",
              "    }\n",
              "\n",
              "    [theme=dark] .colab-df-convert:hover {\n",
              "      background-color: #434B5C;\n",
              "      box-shadow: 0px 1px 3px 1px rgba(0, 0, 0, 0.15);\n",
              "      filter: drop-shadow(0px 1px 2px rgba(0, 0, 0, 0.3));\n",
              "      fill: #FFFFFF;\n",
              "    }\n",
              "  </style>\n",
              "\n",
              "      <script>\n",
              "        const buttonEl =\n",
              "          document.querySelector('#df-01fa5ad5-f55e-4efb-8594-c1c40fd081c9 button.colab-df-convert');\n",
              "        buttonEl.style.display =\n",
              "          google.colab.kernel.accessAllowed ? 'block' : 'none';\n",
              "\n",
              "        async function convertToInteractive(key) {\n",
              "          const element = document.querySelector('#df-01fa5ad5-f55e-4efb-8594-c1c40fd081c9');\n",
              "          const dataTable =\n",
              "            await google.colab.kernel.invokeFunction('convertToInteractive',\n",
              "                                                     [key], {});\n",
              "          if (!dataTable) return;\n",
              "\n",
              "          const docLinkHtml = 'Like what you see? Visit the ' +\n",
              "            '<a target=\"_blank\" href=https://colab.research.google.com/notebooks/data_table.ipynb>data table notebook</a>'\n",
              "            + ' to learn more about interactive tables.';\n",
              "          element.innerHTML = '';\n",
              "          dataTable['output_type'] = 'display_data';\n",
              "          await google.colab.output.renderOutput(dataTable, element);\n",
              "          const docLink = document.createElement('div');\n",
              "          docLink.innerHTML = docLinkHtml;\n",
              "          element.appendChild(docLink);\n",
              "        }\n",
              "      </script>\n",
              "    </div>\n",
              "  </div>\n",
              "  "
            ]
          },
          "metadata": {},
          "execution_count": 37
        }
      ]
    },
    {
      "cell_type": "markdown",
      "metadata": {
        "id": "6-B_qtEaYEd-"
      },
      "source": [
        "### **Q1. Quantos atributos (variáveis) e quantas entradas o nosso conjunto de dados possui? Quais os tipos das variáveis?**\n",
        "\n",
        "Baixo podermos identificar quais os tipos de variáveis de cada coluna da nossa DataFrame, e a quantidade a quantidade de entradas da mesma."
      ]
    },
    {
      "cell_type": "code",
      "metadata": {
        "id": "TFRK0tniLV-G",
        "outputId": "3c83cb9a-c30d-4837-92ef-7bfc307d1a37",
        "colab": {
          "base_uri": "https://localhost:8080/",
          "height": 399
        }
      },
      "source": [
        "# identificar o volume de dados do DataFrame\n",
        "print('Entrada:\\t {}'.format(df_Havai.shape[0]))\n",
        "print('Variáveis:\\t {}\\n'.format(df_Havai.shape[1]))\n",
        "# verificar as 5 primeiras entradas do dataset\n",
        "display(df_Havai.dtypes)"
      ],
      "execution_count": 38,
      "outputs": [
        {
          "output_type": "stream",
          "name": "stdout",
          "text": [
            "Entrada:\t 28580\n",
            "Variáveis:\t 18\n",
            "\n"
          ]
        },
        {
          "output_type": "display_data",
          "data": {
            "text/plain": [
              "id                                  int64\n",
              "name                               object\n",
              "host_id                             int64\n",
              "host_name                          object\n",
              "neighbourhood_group                object\n",
              "neighbourhood                      object\n",
              "latitude                          float64\n",
              "longitude                         float64\n",
              "room_type                          object\n",
              "price                               int64\n",
              "minimum_nights                      int64\n",
              "number_of_reviews                   int64\n",
              "last_review                        object\n",
              "reviews_per_month                 float64\n",
              "calculated_host_listings_count      int64\n",
              "availability_365                    int64\n",
              "number_of_reviews_ltm               int64\n",
              "license                            object\n",
              "dtype: object"
            ]
          },
          "metadata": {}
        }
      ]
    },
    {
      "cell_type": "markdown",
      "metadata": {
        "id": "yz1urSUGW9iE"
      },
      "source": [
        "### **Q2. Qual a porcentagem de valores ausentes no *dataset*?**\n",
        "\n",
        "A partir desse momento precisamos identificar os valores ausentes no dataset, assim teremos uma dimensão e qualidade dos nossos dados extraídos.\n",
        "\n",
        "Podemos observar que as colunas **reviews_per_month** e **last_review**, possui 19,38% dos seus valores faltantes.\n",
        "* A coluna **license**, possui 16,46% dos valores faltantes.\n",
        "* E a coluna **host_name**, possui menos que 1% dos valores faltantes.\n"
      ]
    },
    {
      "cell_type": "code",
      "metadata": {
        "id": "plk2FjbCXOqP",
        "colab": {
          "base_uri": "https://localhost:8080/"
        },
        "outputId": "19fcce18-e7c7-4f1e-fc1b-33cb2a1942dd"
      },
      "source": [
        "# ordenar em ordem decrescente as variáveis por seus valores ausentes\n",
        "(df_Havai.isnull().sum() / df_Havai.shape[0]).sort_values(ascending=False)"
      ],
      "execution_count": 39,
      "outputs": [
        {
          "output_type": "execute_result",
          "data": {
            "text/plain": [
              "reviews_per_month                 0.193807\n",
              "last_review                       0.193807\n",
              "license                           0.164626\n",
              "host_name                         0.004689\n",
              "minimum_nights                    0.000000\n",
              "number_of_reviews_ltm             0.000000\n",
              "availability_365                  0.000000\n",
              "calculated_host_listings_count    0.000000\n",
              "number_of_reviews                 0.000000\n",
              "id                                0.000000\n",
              "name                              0.000000\n",
              "room_type                         0.000000\n",
              "longitude                         0.000000\n",
              "latitude                          0.000000\n",
              "neighbourhood                     0.000000\n",
              "neighbourhood_group               0.000000\n",
              "host_id                           0.000000\n",
              "price                             0.000000\n",
              "dtype: float64"
            ]
          },
          "metadata": {},
          "execution_count": 39
        }
      ]
    },
    {
      "cell_type": "markdown",
      "metadata": {
        "id": "iHXvvHIxaoNc"
      },
      "source": [
        "### **Q3. Qual o tipo de distribuição das variáveis?** \n",
        "\n",
        "Abaixo consta o histograma para identificar a distribuição das variáveis."
      ]
    },
    {
      "cell_type": "code",
      "metadata": {
        "id": "q2wWSfeRbmBo",
        "colab": {
          "base_uri": "https://localhost:8080/",
          "height": 607
        },
        "outputId": "159124ef-711f-4b64-cf6f-efa97c96954e"
      },
      "source": [
        "# plotar o histograma das variáveis numéricas\n",
        "df_Havai.hist(bins=15, figsize=(15,10));"
      ],
      "execution_count": 40,
      "outputs": [
        {
          "output_type": "display_data",
          "data": {
            "text/plain": [
              "<Figure size 1080x720 with 12 Axes>"
            ],
            "image/png": "[encoded data removed]"
          },
          "metadata": {
            "needs_background": "light"
          }
        }
      ]
    },
    {
      "cell_type": "markdown",
      "metadata": {
        "id": "IXn2oIo5qx-w"
      },
      "source": [
        "### **Q4. Qual a correlação existente entre as variáveis**\n",
        "\n",
        "O objetivo é buscar relação entre duas variáveis, onde serão utilizados as seguintes técnicas:\n",
        "\n",
        "* Criar uma matriz de correlação.\n",
        "* Gerar um heatmap a partir dessa matriz, usando a bliblioteca **seaborn.**"
      ]
    },
    {
      "cell_type": "code",
      "metadata": {
        "id": "x2ayzBajqxyd",
        "colab": {
          "base_uri": "https://localhost:8080/",
          "height": 238
        },
        "outputId": "9cc3abe4-affc-4d1a-d4ec-7de1b47bace7"
      },
      "source": [
        "# criar uma matriz de correlação\n",
        "corr = df_Havai[['price', 'minimum_nights', 'number_of_reviews', 'reviews_per_month',\n",
        "    'calculated_host_listings_count', 'availability_365']].corr()\n",
        "\n",
        "display(corr)\n",
        "# mostrar a matriz de correlação\n"
      ],
      "execution_count": 41,
      "outputs": [
        {
          "output_type": "display_data",
          "data": {
            "text/plain": [
              "                                   price  minimum_nights  number_of_reviews  \\\n",
              "price                           1.000000       -0.000501          -0.099521   \n",
              "minimum_nights                 -0.000501        1.000000          -0.063217   \n",
              "number_of_reviews              -0.099521       -0.063217           1.000000   \n",
              "reviews_per_month              -0.117144       -0.127871           0.580961   \n",
              "calculated_host_listings_count  0.111104        0.008250          -0.232025   \n",
              "availability_365               -0.013797       -0.014110           0.011419   \n",
              "\n",
              "                                reviews_per_month  \\\n",
              "price                                   -0.117144   \n",
              "minimum_nights                          -0.127871   \n",
              "number_of_reviews                        0.580961   \n",
              "reviews_per_month                        1.000000   \n",
              "calculated_host_listings_count          -0.268022   \n",
              "availability_365                         0.021111   \n",
              "\n",
              "                                calculated_host_listings_count  \\\n",
              "price                                                 0.111104   \n",
              "minimum_nights                                        0.008250   \n",
              "number_of_reviews                                    -0.232025   \n",
              "reviews_per_month                                    -0.268022   \n",
              "calculated_host_listings_count                        1.000000   \n",
              "availability_365                                      0.140144   \n",
              "\n",
              "                                availability_365  \n",
              "price                                  -0.013797  \n",
              "minimum_nights                         -0.014110  \n",
              "number_of_reviews                       0.011419  \n",
              "reviews_per_month                       0.021111  \n",
              "calculated_host_listings_count          0.140144  \n",
              "availability_365                        1.000000  "
            ],
            "text/html": [
              "\n",
              "  <div id=\"df-4d782879-61d4-47d9-9820-8a70d59ee0b8\">\n",
              "    <div class=\"colab-df-container\">\n",
              "      <div>\n",
              "<style scoped>\n",
              "    .dataframe tbody tr th:only-of-type {\n",
              "        vertical-align: middle;\n",
              "    }\n",
              "\n",
              "    .dataframe tbody tr th {\n",
              "        vertical-align: top;\n",
              "    }\n",
              "\n",
              "    .dataframe thead th {\n",
              "        text-align: right;\n",
              "    }\n",
              "</style>\n",
              "<table border=\"1\" class=\"dataframe\">\n",
              "  <thead>\n",
              "    <tr style=\"text-align: right;\">\n",
              "      <th></th>\n",
              "      <th>price</th>\n",
              "      <th>minimum_nights</th>\n",
              "      <th>number_of_reviews</th>\n",
              "      <th>reviews_per_month</th>\n",
              "      <th>calculated_host_listings_count</th>\n",
              "      <th>availability_365</th>\n",
              "    </tr>\n",
              "  </thead>\n",
              "  <tbody>\n",
              "    <tr>\n",
              "      <th>price</th>\n",
              "      <td>1.000000</td>\n",
              "      <td>-0.000501</td>\n",
              "      <td>-0.099521</td>\n",
              "      <td>-0.117144</td>\n",
              "      <td>0.111104</td>\n",
              "      <td>-0.013797</td>\n",
              "    </tr>\n",
              "    <tr>\n",
              "      <th>minimum_nights</th>\n",
              "      <td>-0.000501</td>\n",
              "      <td>1.000000</td>\n",
              "      <td>-0.063217</td>\n",
              "      <td>-0.127871</td>\n",
              "      <td>0.008250</td>\n",
              "      <td>-0.014110</td>\n",
              "    </tr>\n",
              "    <tr>\n",
              "      <th>number_of_reviews</th>\n",
              "      <td>-0.099521</td>\n",
              "      <td>-0.063217</td>\n",
              "      <td>1.000000</td>\n",
              "      <td>0.580961</td>\n",
              "      <td>-0.232025</td>\n",
              "      <td>0.011419</td>\n",
              "    </tr>\n",
              "    <tr>\n",
              "      <th>reviews_per_month</th>\n",
              "      <td>-0.117144</td>\n",
              "      <td>-0.127871</td>\n",
              "      <td>0.580961</td>\n",
              "      <td>1.000000</td>\n",
              "      <td>-0.268022</td>\n",
              "      <td>0.021111</td>\n",
              "    </tr>\n",
              "    <tr>\n",
              "      <th>calculated_host_listings_count</th>\n",
              "      <td>0.111104</td>\n",
              "      <td>0.008250</td>\n",
              "      <td>-0.232025</td>\n",
              "      <td>-0.268022</td>\n",
              "      <td>1.000000</td>\n",
              "      <td>0.140144</td>\n",
              "    </tr>\n",
              "    <tr>\n",
              "      <th>availability_365</th>\n",
              "      <td>-0.013797</td>\n",
              "      <td>-0.014110</td>\n",
              "      <td>0.011419</td>\n",
              "      <td>0.021111</td>\n",
              "      <td>0.140144</td>\n",
              "      <td>1.000000</td>\n",
              "    </tr>\n",
              "  </tbody>\n",
              "</table>\n",
              "</div>\n",
              "      <button class=\"colab-df-convert\" onclick=\"convertToInteractive('df-4d782879-61d4-47d9-9820-8a70d59ee0b8')\"\n",
              "              title=\"Convert this dataframe to an interactive table.\"\n",
              "              style=\"display:none;\">\n",
              "        \n",
              "  <svg xmlns=\"http://www.w3.org/2000/svg\" height=\"24px\"viewBox=\"0 0 24 24\"\n",
              "       width=\"24px\">\n",
              "    <path d=\"M0 0h24v24H0V0z\" fill=\"none\"/>\n",
              "    <path d=\"M18.56 5.44l.94 2.06.94-2.06 2.06-.94-2.06-.94-.94-2.06-.94 2.06-2.06.94zm-11 1L8.5 8.5l.94-2.06 2.06-.94-2.06-.94L8.5 2.5l-.94 2.06-2.06.94zm10 10l.94 2.06.94-2.06 2.06-.94-2.06-.94-.94-2.06-.94 2.06-2.06.94z\"/><path d=\"M17.41 7.96l-1.37-1.37c-.4-.4-.92-.59-1.43-.59-.52 0-1.04.2-1.43.59L10.3 9.45l-7.72 7.72c-.78.78-.78 2.05 0 2.83L4 21.41c.39.39.9.59 1.41.59.51 0 1.02-.2 1.41-.59l7.78-7.78 2.81-2.81c.8-.78.8-2.07 0-2.86zM5.41 20L4 18.59l7.72-7.72 1.47 1.35L5.41 20z\"/>\n",
              "  </svg>\n",
              "      </button>\n",
              "      \n",
              "  <style>\n",
              "    .colab-df-container {\n",
              "      display:flex;\n",
              "      flex-wrap:wrap;\n",
              "      gap: 12px;\n",
              "    }\n",
              "\n",
              "    .colab-df-convert {\n",
              "      background-color: #E8F0FE;\n",
              "      border: none;\n",
              "      border-radius: 50%;\n",
              "      cursor: pointer;\n",
              "      display: none;\n",
              "      fill: #1967D2;\n",
              "      height: 32px;\n",
              "      padding: 0 0 0 0;\n",
              "      width: 32px;\n",
              "    }\n",
              "\n",
              "    .colab-df-convert:hover {\n",
              "      background-color: #E2EBFA;\n",
              "      box-shadow: 0px 1px 2px rgba(60, 64, 67, 0.3), 0px 1px 3px 1px rgba(60, 64, 67, 0.15);\n",
              "      fill: #174EA6;\n",
              "    }\n",
              "\n",
              "    [theme=dark] .colab-df-convert {\n",
              "      background-color: #3B4455;\n",
              "      fill: #D2E3FC;\n",
              "    }\n",
              "\n",
              "    [theme=dark] .colab-df-convert:hover {\n",
              "      background-color: #434B5C;\n",
              "      box-shadow: 0px 1px 3px 1px rgba(0, 0, 0, 0.15);\n",
              "      filter: drop-shadow(0px 1px 2px rgba(0, 0, 0, 0.3));\n",
              "      fill: #FFFFFF;\n",
              "    }\n",
              "  </style>\n",
              "\n",
              "      <script>\n",
              "        const buttonEl =\n",
              "          document.querySelector('#df-4d782879-61d4-47d9-9820-8a70d59ee0b8 button.colab-df-convert');\n",
              "        buttonEl.style.display =\n",
              "          google.colab.kernel.accessAllowed ? 'block' : 'none';\n",
              "\n",
              "        async function convertToInteractive(key) {\n",
              "          const element = document.querySelector('#df-4d782879-61d4-47d9-9820-8a70d59ee0b8');\n",
              "          const dataTable =\n",
              "            await google.colab.kernel.invokeFunction('convertToInteractive',\n",
              "                                                     [key], {});\n",
              "          if (!dataTable) return;\n",
              "\n",
              "          const docLinkHtml = 'Like what you see? Visit the ' +\n",
              "            '<a target=\"_blank\" href=https://colab.research.google.com/notebooks/data_table.ipynb>data table notebook</a>'\n",
              "            + ' to learn more about interactive tables.';\n",
              "          element.innerHTML = '';\n",
              "          dataTable['output_type'] = 'display_data';\n",
              "          await google.colab.output.renderOutput(dataTable, element);\n",
              "          const docLink = document.createElement('div');\n",
              "          docLink.innerHTML = docLinkHtml;\n",
              "          element.appendChild(docLink);\n",
              "        }\n",
              "      </script>\n",
              "    </div>\n",
              "  </div>\n",
              "  "
            ]
          },
          "metadata": {}
        }
      ]
    },
    {
      "cell_type": "code",
      "metadata": {
        "id": "91UujDr6ueqE",
        "colab": {
          "base_uri": "https://localhost:8080/",
          "height": 411
        },
        "outputId": "4b0bd436-98a1-478b-ecde-7804dd97b1a1"
      },
      "source": [
        "# plotar um heatmap a partir das correlações\n",
        "sns.heatmap(corr, cmap='RdBu', fmt='.2f', square=True, linecolor='white', annot=True);"
      ],
      "execution_count": 42,
      "outputs": [
        {
          "output_type": "display_data",
          "data": {
            "text/plain": [
              "<Figure size 432x288 with 2 Axes>"
            ],
            "image/png": "[encoded data removed]"
          },
          "metadata": {
            "needs_background": "light"
          }
        }
      ]
    },
    {
      "cell_type": "markdown",
      "metadata": {
        "id": "7b6RMWpuHKN-"
      },
      "source": [
        "### **Q5. Qual o tipo de imóvel mais alugado no Airbnb?**\n",
        "\n",
        "Através da coluna **room_type**, podemos identificar os tipos de imóveis mais alugados, onde temos as seguintes legendas:\n",
        "\n",
        "\n",
        "* Entire home/apt: Casa inteira/apto\n",
        "* Private room: Quarto privado\n",
        "* Hotel room: Quarto compartilhado\n",
        "* Shared room: Quarto de hotel\n",
        "\n",
        "Também, estaremos verificando a média de preço de cada tipo de imóveis alugado, onde podemos destacar **Private room: Quarto privado** com a média cobrada de 566,45."
      ]
    },
    {
      "cell_type": "code",
      "metadata": {
        "id": "ueLPNWvPHgfB",
        "colab": {
          "base_uri": "https://localhost:8080/"
        },
        "outputId": "c67bf064-1155-4f5e-f616-03b1c805d4dc"
      },
      "source": [
        "# mostrar a quantidade de cada tipo de imóvel disponível\n",
        "df_Havai.room_type.value_counts()"
      ],
      "execution_count": 43,
      "outputs": [
        {
          "output_type": "execute_result",
          "data": {
            "text/plain": [
              "Entire home/apt    25147\n",
              "Private room        3324\n",
              "Hotel room            73\n",
              "Shared room           36\n",
              "Name: room_type, dtype: int64"
            ]
          },
          "metadata": {},
          "execution_count": 43
        }
      ]
    },
    {
      "cell_type": "code",
      "metadata": {
        "id": "EvwoO-XAHhIm",
        "colab": {
          "base_uri": "https://localhost:8080/"
        },
        "outputId": "39aba0c1-0607-4939-a663-bce7338dee9a"
      },
      "source": [
        "# mostrar a porcentagem de cada tipo de imóvel disponível\n",
        "df_Havai.room_type.value_counts() / df_Havai.shape[0]"
      ],
      "execution_count": 44,
      "outputs": [
        {
          "output_type": "execute_result",
          "data": {
            "text/plain": [
              "Entire home/apt    0.879881\n",
              "Private room       0.116305\n",
              "Hotel room         0.002554\n",
              "Shared room        0.001260\n",
              "Name: room_type, dtype: float64"
            ]
          },
          "metadata": {},
          "execution_count": 44
        }
      ]
    },
    {
      "cell_type": "code",
      "source": [
        "# média de preço por tipo de imóvel\n",
        "df_Havai.groupby(['room_type']).price.mean().sort_values(ascending=False)[:10]"
      ],
      "metadata": {
        "colab": {
          "base_uri": "https://localhost:8080/"
        },
        "id": "IMhoO5wPVEdF",
        "outputId": "cff1e976-c290-46d8-e7ec-f497c4f1ccda"
      },
      "execution_count": 57,
      "outputs": [
        {
          "output_type": "execute_result",
          "data": {
            "text/plain": [
              "room_type\n",
              "Private room       566.450060\n",
              "Entire home/apt    465.374399\n",
              "Hotel room         256.506849\n",
              "Shared room         77.194444\n",
              "Name: price, dtype: float64"
            ]
          },
          "metadata": {},
          "execution_count": 57
        }
      ]
    },
    {
      "cell_type": "markdown",
      "metadata": {
        "id": "MFa5NbnLJMcd"
      },
      "source": [
        "### **Q6. Qual a localidade mais cara do Havaí?**\n",
        "\n",
        "ara fazer esse verificação será utilizado a função **groupby()**, assim será foi um agrupamento por bairro a partir do preço de locação. Também, utilizaremos o mesmo método para visualizar a quantidade de imóveis que estão sendo ofertados por bairro.\n",
        "\n"
      ]
    },
    {
      "cell_type": "code",
      "metadata": {
        "id": "MD_xa143JZpi",
        "colab": {
          "base_uri": "https://localhost:8080/"
        },
        "outputId": "30ef1828-98e1-43de-b0fc-6a5ee3008f38"
      },
      "source": [
        "# ver preços por bairros, na média\n",
        "df_Havai.groupby(['neighbourhood']).price.mean().sort_values(ascending=False)[:10]\n"
      ],
      "execution_count": 45,
      "outputs": [
        {
          "output_type": "execute_result",
          "data": {
            "text/plain": [
              "neighbourhood\n",
              "Lahaina              839.190228\n",
              "Koolaupoko           626.780220\n",
              "East Honolulu        608.263158\n",
              "Koloa-Poipu          576.187905\n",
              "South Kohala         568.078463\n",
              "Kihei-Makena         511.332185\n",
              "Ewa                  481.951550\n",
              "Koolauloa            480.589789\n",
              "North Shore Oahu     464.473810\n",
              "North Shore Kauai    460.895982\n",
              "Name: price, dtype: float64"
            ]
          },
          "metadata": {},
          "execution_count": 45
        }
      ]
    },
    {
      "cell_type": "code",
      "source": [
        "# Quantidade de imoveis por bairro\n",
        "df_Havai.neighbourhood.value_counts().sort_values(ascending=False)[:20]"
      ],
      "metadata": {
        "colab": {
          "base_uri": "https://localhost:8080/"
        },
        "id": "FKVLyKFTIfE-",
        "outputId": "be0114cc-e922-4012-9d15-a1cc2ad4ffed"
      },
      "execution_count": 54,
      "outputs": [
        {
          "output_type": "execute_result",
          "data": {
            "text/plain": [
              "Primary Urban Center    6221\n",
              "Lahaina                 4421\n",
              "Kihei-Makena            4064\n",
              "North Kona              3011\n",
              "North Shore Kauai       1817\n",
              "Koloa-Poipu             1389\n",
              "South Kohala            1249\n",
              "Puna                    1113\n",
              "Kapaa-Wailua             697\n",
              "Koolauloa                568\n",
              "Ewa                      516\n",
              "South Hilo               513\n",
              "Koolaupoko               455\n",
              "North Shore Oahu         420\n",
              "Lihue                    284\n",
              "South Kona               267\n",
              "Waianae                  241\n",
              "Paia-Haiku               222\n",
              "Kau                      220\n",
              "East Honolulu            190\n",
              "Name: neighbourhood, dtype: int64"
            ]
          },
          "metadata": {},
          "execution_count": 54
        }
      ]
    },
    {
      "cell_type": "code",
      "metadata": {
        "id": "UxVJqJ_3W59I",
        "colab": {
          "base_uri": "https://localhost:8080/",
          "height": 472
        },
        "outputId": "d0960922-89b4-4fd7-850c-80394d1a90bb"
      },
      "source": [
        "# plotar os imóveis pela latitude-longitude\n",
        "df_Havai.plot(kind=\"scatter\", x='longitude', y='latitude', alpha=0.4, c=df_Havai['price'], s=8,\n",
        "              cmap=plt.get_cmap('jet'), figsize=(12,8));"
      ],
      "execution_count": 49,
      "outputs": [
        {
          "output_type": "display_data",
          "data": {
            "text/plain": [
              "<Figure size 864x576 with 2 Axes>"
            ],
            "image/png": "[encoded data removed]"
          },
          "metadata": {
            "needs_background": "light"
          }
        }
      ]
    },
    {
      "cell_type": "markdown",
      "metadata": {
        "id": "vTneAMRUYvr1"
      },
      "source": [
        "### **Q7. Qual é a média do mínimo de noites para aluguel (minimum_nights)?**"
      ]
    },
    {
      "cell_type": "code",
      "metadata": {
        "id": "_VzNhrEgY82N",
        "colab": {
          "base_uri": "https://localhost:8080/"
        },
        "outputId": "7e16c47f-5be6-49a5-ba9b-198b3c338f79"
      },
      "source": [
        "# ver a média da coluna `minimum_nights`\n",
        "print(\"Média de {} noites\".format(df_Havai.minimum_nights.median()))"
      ],
      "execution_count": 53,
      "outputs": [
        {
          "output_type": "stream",
          "name": "stdout",
          "text": [
            "Média de 3.0 noites\n"
          ]
        }
      ]
    },
    {
      "cell_type": "markdown",
      "metadata": {
        "id": "GkvAg623RjoR"
      },
      "source": [
        "## Conclusões\n"
      ]
    },
    {
      "cell_type": "markdown",
      "metadata": {
        "id": "rbZ3Hsy9Ypw8"
      },
      "source": [
        "Podemos ver com essa análise que a localidade **East Honolulu** com a média de preço de 608.26, sendo 3ª maior média entre as localidades, porém, à mesma só tem 190 imóveis para alugar, assim distorcendo as informações estatísticas.\n",
        "Também, podemos destacar que a média de valor do **Quarto privado (566,45)** é mais caro que o tipo **Casa inteira/apto (465,37)**, assim gerando 87% ocupação para esse tipo de imóveis.\n",
        "\n",
        "Também, vale ressaltar que essa análise foi apenas uma análise superficial na base de dados do Airbnb.\n"
      ]
    }
  ]
}